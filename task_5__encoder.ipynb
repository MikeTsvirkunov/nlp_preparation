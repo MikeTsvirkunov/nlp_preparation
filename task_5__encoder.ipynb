{
 "cells": [
  {
   "cell_type": "code",
   "execution_count": 1,
   "metadata": {},
   "outputs": [],
   "source": [
    "import torch"
   ]
  },
  {
   "cell_type": "markdown",
   "metadata": {},
   "source": [
    "# Тесты моделей"
   ]
  },
  {
   "cell_type": "code",
   "execution_count": 2,
   "metadata": {},
   "outputs": [
    {
     "data": {
      "text/plain": [
       "(torch.Size([5, 3, 20]), torch.Size([4, 3, 20]), torch.Size([4, 3, 20]))"
      ]
     },
     "execution_count": 2,
     "metadata": {},
     "output_type": "execute_result"
    }
   ],
   "source": [
    "rnn = torch.nn.LSTM(50, 20, 4)\n",
    "input_tensor = torch.randn(5, 3, 50)\n",
    "h0 = torch.randn(4, 3, 20)\n",
    "c0 = torch.randn(4, 3, 20)\n",
    "output, (hn, cn) = rnn(input_tensor, (h0, c0))\n",
    "output.shape, hn.shape, cn.shape"
   ]
  },
  {
   "cell_type": "code",
   "execution_count": 71,
   "metadata": {},
   "outputs": [
    {
     "name": "stdout",
     "output_type": "stream",
     "text": [
      "torch.Size([2, 5, 20])\n"
     ]
    }
   ],
   "source": [
    "input_tensor = torch.randint(0, 10, (2, 5)).long()+4\n",
    "padded = torch.nn.functional.pad(input=input_tensor, pad=(0, 5), mode='constant', value=2)\n",
    "emb = torch.nn.Embedding(\n",
    "    num_embeddings=14,\n",
    "    embedding_dim=20,\n",
    "    padding_idx=2\n",
    ")\n",
    "embeded = emb(input_tensor)\n",
    "print(emb(input_tensor).shape)\n",
    "\n"
   ]
  },
  {
   "cell_type": "code",
   "execution_count": 27,
   "metadata": {},
   "outputs": [
    {
     "data": {
      "text/plain": [
       "tensor([3, 8, 4, 1, 8, 8])"
      ]
     },
     "execution_count": 27,
     "metadata": {},
     "output_type": "execute_result"
    }
   ],
   "source": [
    "input_tensor"
   ]
  },
  {
   "cell_type": "markdown",
   "metadata": {},
   "source": [
    "# Чистый Encoder"
   ]
  },
  {
   "cell_type": "code",
   "execution_count": 83,
   "metadata": {},
   "outputs": [],
   "source": [
    "class EncoderLSTM(torch.nn.Module):\n",
    "  def __init__(\n",
    "    self, \n",
    "    embedding_size: int,  # размерность векторов в который преобразуется какждый элемент последовательности \n",
    "    hidden_size: int,  # размерность векторов на выходе\n",
    "    num_layers: int,  # число векторов скрытых состояний\n",
    "):\n",
    "    super(EncoderLSTM, self).__init__()\n",
    "    self.embedding_size = embedding_size\n",
    "    self.hidden_size = hidden_size\n",
    "    self.num_layers = num_layers\n",
    "    self.LSTM = torch.nn.LSTM(\n",
    "      self.embedding_size, \n",
    "      hidden_size, \n",
    "      num_layers\n",
    "    )\n",
    "\n",
    "  def forward(self, x: torch.tensor):\n",
    "    outputs, (hidden_state, cell_state) = self.LSTM(x)\n",
    "\n",
    "    return outputs, hidden_state, cell_state\n",
    "\n",
    "encoder_embedding_size = 29   # Размер векторов--эмбелингов будет 29\n",
    "hidden_size = 17  # размер эмбедингов на выходе будет 17 \n",
    "num_layers = 7  # число скрытых состояний\n",
    "\n",
    "encoder_lstm = EncoderLSTM(encoder_embedding_size, hidden_size, num_layers)"
   ]
  },
  {
   "cell_type": "code",
   "execution_count": 86,
   "metadata": {},
   "outputs": [
    {
     "data": {
      "text/plain": [
       "(torch.Size([2, 10]),\n",
       " torch.Size([2, 10, 17]),\n",
       " torch.Size([7, 10, 17]),\n",
       " torch.Size([7, 10, 17]))"
      ]
     },
     "execution_count": 86,
     "metadata": {},
     "output_type": "execute_result"
    }
   ],
   "source": [
    "input_tensor = torch.randn(2, 10, 29)\n",
    "outputs, hidden_state, cell_state = encoder_lstm(padded)\n",
    "padded.shape, outputs.shape, hidden_state.shape, cell_state.shape "
   ]
  },
  {
   "cell_type": "markdown",
   "metadata": {},
   "source": [
    "# Со встроенной векторизацией"
   ]
  },
  {
   "cell_type": "code",
   "execution_count": 84,
   "metadata": {},
   "outputs": [],
   "source": [
    "class EncoderLSTM(torch.nn.Module):\n",
    "  def __init__(\n",
    "    self, \n",
    "    vocab_size: int,  # размер словаря\n",
    "    embedding_size: int,  # размерность векторов в который преобразуется какждый элемент последовательности \n",
    "    hidden_size: int,  # размерность векторов на выходе\n",
    "    num_layers: int,  # число скрытых состояний\n",
    "    pad_idx: int=2,  # PAD-элемент\n",
    "):\n",
    "    super(EncoderLSTM, self).__init__()\n",
    "    self.vocab_size = vocab_size\n",
    "    self.embedding_size = embedding_size\n",
    "    self.hidden_size = hidden_size\n",
    "    self.num_layers = num_layers\n",
    "    self.embedding = torch.nn.Embedding(\n",
    "      self.vocab_size, \n",
    "      self.embedding_size, \n",
    "      padding_idx=pad_idx\n",
    "    )\n",
    "    self.LSTM = torch.nn.LSTM(\n",
    "      self.embedding_size, \n",
    "      hidden_size, \n",
    "      num_layers\n",
    "    )\n",
    "\n",
    "  def forward(self, x: torch.tensor):\n",
    "    embedding = self.embedding(x)\n",
    "    outputs, (hidden_state, cell_state) = self.LSTM(embedding)\n",
    "\n",
    "    return outputs, hidden_state, cell_state\n",
    "\n",
    "vocab_size_encoder = 23  # Пусть размер словаря будет 23\n",
    "encoder_embedding_size = 29   # Размер векторов--эмбелингов будет 29\n",
    "hidden_size = 17  # размер эмбедингов на выходе будет 17 \n",
    "num_layers = 7  # число скрытых состояний\n",
    "\n",
    "encoder_lstm = EncoderLSTM(vocab_size_encoder, encoder_embedding_size, hidden_size, num_layers)"
   ]
  },
  {
   "cell_type": "code",
   "execution_count": 85,
   "metadata": {},
   "outputs": [
    {
     "data": {
      "text/plain": [
       "(torch.Size([2, 10]),\n",
       " torch.Size([2, 10, 17]),\n",
       " torch.Size([7, 10, 17]),\n",
       " torch.Size([7, 10, 17]))"
      ]
     },
     "execution_count": 85,
     "metadata": {},
     "output_type": "execute_result"
    }
   ],
   "source": [
    "input_tensor = torch.randint(4, 23, (2, 5)).long()  # каких-то 2-е последовательности длиной 5 с типом long. \n",
    "                                                    # Значения ограниченны с низу до 4 из предположения,что в (0, 4) - спец символы.\n",
    "padded = torch.nn.functional.pad(\n",
    "    input=input_tensor, \n",
    "    pad=(0, 5), \n",
    "    mode='constant', \n",
    "    value=2\n",
    ")  # Падим последовательности с права на 0 символов-отступа с лева на 5.\n",
    "   # В итоге имеем 2-е последовательности длиной 10\n",
    "outputs, hidden_state, cell_state = encoder_lstm(padded)\n",
    "padded.shape, outputs.shape, hidden_state.shape, cell_state.shape "
   ]
  }
 ],
 "metadata": {
  "kernelspec": {
   "display_name": "RGR_NLP",
   "language": "python",
   "name": "python3"
  },
  "language_info": {
   "codemirror_mode": {
    "name": "ipython",
    "version": 3
   },
   "file_extension": ".py",
   "mimetype": "text/x-python",
   "name": "python",
   "nbconvert_exporter": "python",
   "pygments_lexer": "ipython3",
   "version": "3.10.12"
  }
 },
 "nbformat": 4,
 "nbformat_minor": 2
}
