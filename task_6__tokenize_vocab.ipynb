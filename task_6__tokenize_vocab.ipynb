{
  "cells": [
    {
      "cell_type": "code",
      "execution_count": 3,
      "metadata": {
        "colab": {
          "base_uri": "https://localhost:8080/"
        },
        "id": "ZV2Rk9Tz8CyP",
        "outputId": "96070032-4794-4538-a10a-4adb8066f1ca"
      },
      "outputs": [
        {
          "name": "stdout",
          "output_type": "stream",
          "text": [
            "Downloading...\n",
            "From: https://drive.google.com/uc?id=1cfUt8-cJR7gWLv68ya_gZwbIZgq29F7D\n",
            "To: /content/1mcorpus.zip\n",
            "100% 122M/122M [00:01<00:00, 110MB/s]\n",
            "Archive:  1mcorpus.zip\n",
            "   creating: 1mcorpus/\n",
            "  inflating: 1mcorpus/corpus.en_ru.1m.en  \n",
            "  inflating: 1mcorpus/corpus.en_ru.1m.ru  \n"
          ]
        }
      ],
      "source": [
        "!gdown 1cfUt8-cJR7gWLv68ya_gZwbIZgq29F7D\n",
        "!unzip 1mcorpus.zip"
      ]
    },
    {
      "cell_type": "code",
      "execution_count": 50,
      "metadata": {
        "colab": {
          "base_uri": "https://localhost:8080/"
        },
        "id": "_71MKUUTzloK",
        "outputId": "75218213-91d3-4222-f3ca-8ea306fe91dc"
      },
      "outputs": [
        {
          "name": "stdout",
          "output_type": "stream",
          "text": [
            "Requirement already satisfied: razdel in /usr/local/lib/python3.10/dist-packages (0.5.0)\n",
            "Collecting iopath\n",
            "  Downloading iopath-0.1.10.tar.gz (42 kB)\n",
            "\u001b[2K     \u001b[90m━━━━━━━━━━━━━━━━━━━━━━━━━━━━━━━━━━━━━━━━\u001b[0m \u001b[32m42.2/42.2 kB\u001b[0m \u001b[31m895.8 kB/s\u001b[0m eta \u001b[36m0:00:00\u001b[0m\n",
            "\u001b[?25h  Preparing metadata (setup.py) ... \u001b[?25l\u001b[?25hdone\n",
            "Requirement already satisfied: tqdm in /usr/local/lib/python3.10/dist-packages (from iopath) (4.66.1)\n",
            "Requirement already satisfied: typing_extensions in /usr/local/lib/python3.10/dist-packages (from iopath) (4.5.0)\n",
            "Collecting portalocker (from iopath)\n",
            "  Downloading portalocker-2.8.2-py3-none-any.whl (17 kB)\n",
            "Building wheels for collected packages: iopath\n",
            "  Building wheel for iopath (setup.py) ... \u001b[?25l\u001b[?25hdone\n",
            "  Created wheel for iopath: filename=iopath-0.1.10-py3-none-any.whl size=31532 sha256=8072673383d540f0f35ddb3c7878159e82676645088dc6524fb286fc5b158bec\n",
            "  Stored in directory: /root/.cache/pip/wheels/9a/a3/b6/ac0fcd1b4ed5cfeb3db92e6a0e476cfd48ed0df92b91080c1d\n",
            "Successfully built iopath\n",
            "Installing collected packages: portalocker, iopath\n",
            "Successfully installed iopath-0.1.10 portalocker-2.8.2\n"
          ]
        }
      ],
      "source": [
        "!pip install razdel\n",
        "!pip install iopath"
      ]
    },
    {
      "cell_type": "code",
      "execution_count": 104,
      "metadata": {
        "colab": {
          "base_uri": "https://localhost:8080/"
        },
        "id": "i2CR5MYD7zZk",
        "outputId": "037ea858-eca5-4379-c84c-00d2c3a044ee"
      },
      "outputs": [
        {
          "name": "stderr",
          "output_type": "stream",
          "text": [
            "[nltk_data] Downloading package punkt to /root/nltk_data...\n",
            "[nltk_data]   Unzipping tokenizers/punkt.zip.\n"
          ]
        },
        {
          "data": {
            "text/plain": [
              "True"
            ]
          },
          "execution_count": 104,
          "metadata": {},
          "output_type": "execute_result"
        }
      ],
      "source": [
        "import torch\n",
        "import torchdata\n",
        "import torchtext\n",
        "import re\n",
        "from razdel import tokenize as rus_tokenizer\n",
        "from nltk.tokenize import word_tokenize as eng_tokenizer\n",
        "import nltk\n",
        "nltk.download('punkt')\n"
      ]
    },
    {
      "cell_type": "code",
      "execution_count": 97,
      "metadata": {
        "id": "pzS-2svr0683"
      },
      "outputs": [],
      "source": [
        "def print_simple_data_pipe(date_pipe: torchdata.datapipes.iter.IterDataPipe, n=10) -> None:\n",
        "  print(type(date_pipe))\n",
        "  x = 0\n",
        "  for sample in date_pipe:\n",
        "    print(sample)\n",
        "    if x == n:\n",
        "      break\n",
        "    x +=1\n"
      ]
    },
    {
      "cell_type": "code",
      "execution_count": 98,
      "metadata": {
        "colab": {
          "base_uri": "https://localhost:8080/"
        },
        "id": "Q5HfyLAB0P3q",
        "outputId": "d95356ef-cf3b-4b61-a5ff-4ddc671addb6"
      },
      "outputs": [
        {
          "name": "stderr",
          "output_type": "stream",
          "text": [
            "/usr/local/lib/python3.10/dist-packages/torch/utils/data/datapipes/utils/common.py:149: UserWarning: Lambda function is not supported by pickle, please use regular python function or functools.partial instead.\n",
            "  warnings.warn(\n"
          ]
        }
      ],
      "source": [
        "FOLDER = './1mcorpus/'\n",
        "\n",
        "datapipe_en = torchdata.datapipes.iter.FileLister([FOLDER]).filter(lambda fname: fname.endswith('.en'))\n",
        "datapipe_rus = torchdata.datapipes.iter.FileLister([FOLDER]).filter(lambda fname: fname.endswith('.ru'))\n",
        "\n",
        "datapipe_en = torchdata.datapipes.iter.FileOpener(datapipe_en, mode='rt', length=40)\n",
        "datapipe_rus = torchdata.datapipes.iter.FileOpener(datapipe_rus, mode='rt', length=40)\n",
        "\n",
        "datapipe_en = torchdata.datapipes.iter.IterableWrapper(datapipe_en.readlines(return_path=False))\n",
        "datapipe_rus = torchdata.datapipes.iter.IterableWrapper(datapipe_rus.readlines(return_path=False))\n",
        "\n",
        "datapipe_pairs = torchdata.datapipes.iter.Zipper(datapipe_en, datapipe_rus)"
      ]
    },
    {
      "cell_type": "code",
      "execution_count": 112,
      "metadata": {
        "colab": {
          "base_uri": "https://localhost:8080/"
        },
        "id": "_kQKjWYWGNrO",
        "outputId": "09bd09c2-6ed6-4aa4-b682-7480e7b14e88"
      },
      "outputs": [
        {
          "data": {
            "text/plain": [
              "['Привет', 'мир']"
            ]
          },
          "execution_count": 112,
          "metadata": {},
          "output_type": "execute_result"
        }
      ],
      "source": [
        "[i.text for i in rus_tokenizer('Привет мир')]"
      ]
    },
    {
      "cell_type": "code",
      "execution_count": 99,
      "metadata": {
        "colab": {
          "base_uri": "https://localhost:8080/"
        },
        "id": "7aj3oSyf09fd",
        "outputId": "7e1ddcb1-6b97-42b7-c8bb-3d9560fc1f57"
      },
      "outputs": [
        {
          "name": "stdout",
          "output_type": "stream",
          "text": [
            "<class 'torch.utils.data.datapipes.iter.combining.ZipperIterDataPipe'>\n",
            "(\"This new development in Harry's character may be a disappointment to those readers who enjoyed his old vindictive ways, but it also reinforces the position of pro-Potter people who do not see beneath the surface appearance of the characters and plots.\", 'Такое развитие характера Гарри может разочаровать читателей, полюбивших его былую мстительность, но с другой стороны это преображение укрепляет позицию тех, кто не видит глубже сюжета и изображения героев.')\n",
            "('A nondisclosure clause in the final settlement (the band is back on Elektra) prevents Ulrich, an irrepressible motormouth, from providing any juicy contractual details.', 'Решение суда (группа вернулась под крыло к Elektra Entertainment) предотвратило дальнейшие нападки со стороны неугомонного Ульриха и не позволило ему обнародовать детали нового контракта.')\n",
            "(\"When you're 18 or 19 years old, you have that gang mentality in your band.\", 'Когда тебе 18 или 19 лет, легко перенимать бандитские повадки и переносить их в группу.')\n",
            "('Now you have Black Sabbath and Kiss tribute albums.', 'А сейчас куча триьютов тем же самым BLACK SABBATH и KISS.')\n",
            "('I was the one who sat down and copied them.', 'Я был единственным, кто занялся копированием демо на кассете.')\n",
            "('I grew up in as open an upbringing as you can imagine.', 'Я вырос при таком свободном воспитании, что ты и представить себе не можешь.')\n",
            "(\"I'd wake up at 7:30, go downstairs, and the front door would be open - 600 beers in the kitchen and living room and nobody in the house.\", 'Обычно я просыпался в 7:30, спускался вниз и видел что дверь в дом открыта, на кухне и в гостиной стоит 600 банок пива и дома никого нет.')\n",
            "('Like the death penalty.', 'Например о смертной казни.')\n",
            "('The human spark gets put to the wayside.', 'В таком звучании нет души, человеческая искра отодвинута на задний план.')\n",
            "('Perception has no meaning.', 'Восприятие лишено смысла.')\n",
            "('The thoughts need not bear any obvious relationship to the idea, but they should not be in opposition to it.', 'Эти мысли не обязательно должны быть в очевидном родстве с нашей идеей, но не должны и противоречить ей.')\n"
          ]
        }
      ],
      "source": [
        "print_simple_data_pipe(datapipe_pairs)"
      ]
    },
    {
      "cell_type": "code",
      "execution_count": 113,
      "metadata": {
        "id": "Mb67emJlyga8"
      },
      "outputs": [],
      "source": [
        "def yield_tokens_for_pairs(data_iter: torchdata.datapipes.iter.IterDataPipe):\n",
        "  for eng, rus in data_iter:\n",
        "    yield eng_tokenizer(eng), [i.text for i in rus_tokenizer(rus)]\n",
        "\n",
        "\n",
        "def yield_tokens_eng(data_iter: torchdata.datapipes.iter.IterDataPipe):\n",
        "  for i in data_iter:\n",
        "    yield eng_tokenizer(i)\n",
        "\n",
        "\n",
        "def yield_tokens_rus(data_iter: torchdata.datapipes.iter.IterDataPipe):\n",
        "  for i in data_iter:\n",
        "    yield [j.text for j in rus_tokenizer(i)]\n"
      ]
    },
    {
      "cell_type": "code",
      "execution_count": 106,
      "metadata": {
        "id": "lPeDPGhsCRfz"
      },
      "outputs": [],
      "source": [
        "eng_vocab = torchtext.vocab.build_vocab_from_iterator(\n",
        "    yield_tokens_eng(datapipe_en),\n",
        "    min_freq=2,\n",
        "    specials=['<UNK>', '<SOS>', '<EOS>'],\n",
        "    special_first=True\n",
        ")\n",
        "eng_vocab.set_default_index(eng_vocab['<UNK>'])\n"
      ]
    },
    {
      "cell_type": "code",
      "execution_count": 114,
      "metadata": {
        "id": "f_G90T9DFFoQ"
      },
      "outputs": [],
      "source": [
        "rus_vocab = torchtext.vocab.build_vocab_from_iterator(\n",
        "    yield_tokens_rus(datapipe_rus),\n",
        "    min_freq=2,\n",
        "    specials=['<UNK>', '<SOS>', '<EOS>'],\n",
        "    special_first=True\n",
        ")\n",
        "rus_vocab.set_default_index(rus_vocab['<UNK>'])\n"
      ]
    }
  ],
  "metadata": {
    "colab": {
      "provenance": []
    },
    "kernelspec": {
      "display_name": "Python 3",
      "name": "python3"
    },
    "language_info": {
      "name": "python",
      "version": "3.10.12"
    }
  },
  "nbformat": 4,
  "nbformat_minor": 0
}
